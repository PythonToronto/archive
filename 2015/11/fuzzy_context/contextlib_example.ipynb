{
 "cells": [
  {
   "cell_type": "markdown",
   "metadata": {},
   "source": [
    "A contextlib.context example\n",
    "========\n",
    "\n"
   ]
  },
  {
   "cell_type": "markdown",
   "metadata": {},
   "source": [
    "We all know and and appreciate the elengance of contextes, where cleanups are free."
   ]
  },
  {
   "cell_type": "code",
   "execution_count": 1,
   "metadata": {
    "collapsed": false
   },
   "outputs": [
    {
     "name": "stdout",
     "output_type": "stream",
     "text": [
      "Counted 106 lines\n"
     ]
    }
   ],
   "source": [
    "in_file = 'sample_file.txt'\n",
    "count = 0\n",
    "\n",
    "with open(in_file, 'r') as sample_fd:\n",
    "    for line in sample_fd:\n",
    "        count += len(line)\n",
    "\n",
    "print(\"Counted %d lines\" % count)"
   ]
  },
  {
   "cell_type": "markdown",
   "metadata": {},
   "source": [
    "Same thing without using context"
   ]
  },
  {
   "cell_type": "code",
   "execution_count": 2,
   "metadata": {
    "collapsed": false
   },
   "outputs": [
    {
     "name": "stdout",
     "output_type": "stream",
     "text": [
      "Count 106 lines\n"
     ]
    }
   ],
   "source": [
    "count = 0\n",
    "sample_fd = open(in_file, 'r')\n",
    "for line in sample_fd:\n",
    "    count += len(line)\n",
    "\n",
    "sample_fd.close()\n",
    "print(\"Count %d lines\" % count)"
   ]
  },
  {
   "cell_type": "markdown",
   "metadata": {},
   "source": [
    "### Writing context generators is also simple\n",
    "\n",
    "https://docs.python.org/3/reference/datamodel.html#with-statement-context-managers\n",
    "\n",
    "Reimplementation of open context would look something like the following.\n"
   ]
  },
  {
   "cell_type": "code",
   "execution_count": 3,
   "metadata": {
    "collapsed": false
   },
   "outputs": [
    {
     "name": "stdout",
     "output_type": "stream",
     "text": [
      "Counted 106 with read-only context\n"
     ]
    }
   ],
   "source": [
    "\n",
    "class open_read:\n",
    "    def __init__(self, fname):\n",
    "        self.fname = fname\n",
    "        self.fd = None\n",
    "    \n",
    "    def __enter__(self):\n",
    "        self.fd = open(self.fname, 'r')\n",
    "        return self.fd\n",
    "    \n",
    "    def __exit__(self, type, value, traceback):\n",
    "        self.fd.close()\n",
    "        \n",
    "count = 0\n",
    "with open_read(in_file) as sample_read_fd:\n",
    "    for line in sample_read_fd:\n",
    "        count += len(line)\n",
    "\n",
    "print(\"Counted %d with read-only context\" % count)\n",
    "        "
   ]
  },
  {
   "cell_type": "markdown",
   "metadata": {},
   "source": [
    "As a former Java programmer I marvel at the simplicity of context protocol, but this is still a lot of code.\n",
    "\n",
    "Fortunately there's a **contextlib** module in standard library that, predictably has **contextmanager** decorator, that does context managing. However the documentation is a little bit confusing.\n",
    "\n",
    "    @contextmanager\n",
    "    def tag(name):\n",
    "        print \"<%s>\" % name\n",
    "        yield\n",
    "        print \"</%s>\" % name\n",
    "\n",
    "    >>> with tag(\"h1\"):\n",
    "    ...    print \"foo\"\n",
    "    ...\n",
    "    <h1>\n",
    "    foo\n",
    "    </h1>\n",
    "    \n",
    "    The function being decorated must return a generator-iterator when called. This iterator must yield exactly one value, which will be bound to the targets in the with statement’s as clause, if any.\n",
    "\n",
    "\n",
    "WUT?\n",
    "\n",
    "This gets especially confusing because the most common use case for the context is to prepare an iterator object, so yield keyword kind of messes things up, and what if you want to iterate and build-up output inside of a context, where does yield go?\n",
    "\n",
    "\n",
    "\n",
    "#### same example with @contextmanager"
   ]
  },
  {
   "cell_type": "code",
   "execution_count": 4,
   "metadata": {
    "collapsed": false
   },
   "outputs": [
    {
     "name": "stdout",
     "output_type": "stream",
     "text": [
      "Counted 106 with read-only context-managed context\n"
     ]
    }
   ],
   "source": [
    "from contextlib import contextmanager\n",
    "\n",
    "\n",
    "@contextmanager\n",
    "def open_read_func(fname):\n",
    "    fd = open(fname, 'r')\n",
    "    try:\n",
    "        yield fd\n",
    "    finally:\n",
    "        fd.close\n",
    "        \n",
    "count = 0\n",
    "with open_read_func(in_file) as orf:\n",
    "    for line in orf:\n",
    "        count += len(line)\n",
    "\n",
    "print(\"Counted %d with read-only context-managed context\" % count)\n"
   ]
  },
  {
   "cell_type": "markdown",
   "metadata": {},
   "source": [
    "Simple enough, but what if we want to *iterate* inside of a context?\n",
    "\n",
    "Here's a problem -- let's say the content of the file we've been dealing thus far is very similar to a 3-letter overly verbose markup language that isn't worth mentioning, and we just want to get content items, and leave out everything else."
   ]
  },
  {
   "cell_type": "code",
   "execution_count": 5,
   "metadata": {
    "collapsed": false
   },
   "outputs": [
    {
     "name": "stdout",
     "output_type": "stream",
     "text": [
      "begin\n",
      "This is a sample file.\n",
      "Just a regular sample file\n",
      "end\n",
      "begin\n",
      "A sample file.\n",
      "Nothing to see here.\n",
      "end\n",
      "\n"
     ]
    }
   ],
   "source": [
    "print(open(in_file, 'r').read())"
   ]
  },
  {
   "cell_type": "markdown",
   "metadata": {},
   "source": [
    "### I just want to get the data between 'begin' and 'end' statements"
   ]
  },
  {
   "cell_type": "code",
   "execution_count": 6,
   "metadata": {
    "collapsed": false
   },
   "outputs": [
    {
     "name": "stdout",
     "output_type": "stream",
     "text": [
      "----Content Item----\n",
      "This is a sample file.\n",
      "Just a regular sample file\n",
      "\n",
      "----Content Item----\n",
      "A sample file.\n",
      "Nothing to see here.\n",
      "\n"
     ]
    }
   ],
   "source": [
    "@contextmanager\n",
    "def overlyverbose_markup_preprocessor_parser(fname):\n",
    "    # so let's pretend no other code exists and write our preprocessor function here\n",
    "    def content_generator(file_desc):\n",
    "        is_content = False\n",
    "        output = \"\"\n",
    "        for line in file_desc:\n",
    "            if 'begin' in line:\n",
    "                is_content = True\n",
    "            elif 'end' in line:\n",
    "                is_content = False\n",
    "                yield output\n",
    "                output = \"\"\n",
    "            else:\n",
    "                output += line\n",
    "            \n",
    "        \n",
    "    \n",
    "    # this is a copy of open_read_func\n",
    "    fd = open(fname, 'r')\n",
    "    try:\n",
    "        yield content_generator(fd)\n",
    "    finally:\n",
    "        fd.close()\n",
    "        \n",
    "## Reading our content\n",
    "with overlyverbose_markup_preprocessor_parser(in_file) as xml_content:\n",
    "    for content_item in xml_content:\n",
    "        print(\"----Content Item----\")\n",
    "        print(content_item)\n",
    "        \n",
    "    "
   ]
  },
  {
   "cell_type": "markdown",
   "metadata": {},
   "source": [
    "### But in this case we're still opening and closing files manually instead of using context managers!\n"
   ]
  },
  {
   "cell_type": "code",
   "execution_count": 8,
   "metadata": {
    "collapsed": false
   },
   "outputs": [
    {
     "name": "stdout",
     "output_type": "stream",
     "text": [
      "----Content Item----\n",
      "This is a sample file.\n",
      "Just a regular sample file\n",
      "\n",
      "----Content Item----\n",
      "A sample file.\n",
      "Nothing to see here.\n",
      "\n"
     ]
    }
   ],
   "source": [
    "@contextmanager\n",
    "def final_preprocessor_example(fname):\n",
    "    #our new function\n",
    "    def content_generator():\n",
    "        with open(fname, 'r') as fd:\n",
    "            is_content = False\n",
    "            output = \"\"\n",
    "            for line in fd:\n",
    "                if 'begin' in line:\n",
    "                    is_content = True\n",
    "                elif 'end' in line:\n",
    "                    is_content = False\n",
    "                    yield output\n",
    "                    output = \"\"\n",
    "                else:\n",
    "                    output += line\n",
    "    # Now we're returning a function that calls a function that returns a generator\n",
    "    # Let that sink in\n",
    "    yield content_generator()\n",
    "\n",
    "#Somehow everything still works\n",
    "with final_preprocessor_example(in_file) as xml_content:\n",
    "    for content_item in xml_content:\n",
    "        print(\"----Content Item----\")\n",
    "        print(content_item)    \n",
    "                "
   ]
  },
  {
   "cell_type": "markdown",
   "metadata": {
    "collapsed": true
   },
   "source": [
    "OK, so if we expand the code, we'll get the following"
   ]
  },
  {
   "cell_type": "code",
   "execution_count": 21,
   "metadata": {
    "collapsed": false
   },
   "outputs": [
    {
     "name": "stdout",
     "output_type": "stream",
     "text": [
      "----Content Item----\n",
      "This is a sample file.\n",
      "Just a regular sample file\n",
      "\n",
      "----Content Item----\n",
      "A sample file.\n",
      "Nothing to see here.\n",
      "\n"
     ]
    }
   ],
   "source": [
    "class preprocessor_context:\n",
    "    \n",
    "    def __init__(self, fname):\n",
    "        self.fname = fname\n",
    "    \n",
    "    def __exit__(self, type, value, traceback):\n",
    "        pass\n",
    "    \n",
    "    def __enter__(self):\n",
    "        def content_generator():\n",
    "            with open(self.fname, 'r') as fd:\n",
    "                is_content = False\n",
    "                output = \"\"\n",
    "                for line in fd:\n",
    "                    if 'begin' in line:\n",
    "                        is_content = True\n",
    "                    elif 'end' in line:\n",
    "                        is_content = False\n",
    "                        yield output\n",
    "                        output = \"\"\n",
    "                    else:\n",
    "                        output += line\n",
    "        \n",
    "        return content_generator()\n",
    "    \n",
    "    \n",
    "    \n",
    "with preprocessor_context(in_file) as px:\n",
    "    for content_item in px:\n",
    "        print(\"----Content Item----\")\n",
    "        print(content_item)"
   ]
  },
  {
   "cell_type": "markdown",
   "metadata": {},
   "source": [
    "So this also works, but we have `__exit__` method that does nothing, `__init__` method that only saves a variable and `__enter__` method that calls and returns the function defined inside of it.\n",
    "\n",
    "This looks a lot like Facade pattern from Java, except I'm not trying to interface with anything that can be changed -- it's all my code.\n",
    "\n",
    "The interface I'm trying to use is `with` statement. What if I just get rid of it?"
   ]
  },
  {
   "cell_type": "code",
   "execution_count": 22,
   "metadata": {
    "collapsed": false
   },
   "outputs": [
    {
     "name": "stdout",
     "output_type": "stream",
     "text": [
      "----Content Item----\n",
      "This is a sample file.\n",
      "Just a regular sample file\n",
      "\n",
      "----Content Item----\n",
      "A sample file.\n",
      "Nothing to see here.\n",
      "\n"
     ]
    }
   ],
   "source": [
    "def content_generator(fname):\n",
    "    with open(fname, 'r') as fd:\n",
    "        is_content = False\n",
    "        output = \"\"\n",
    "        for line in fd:\n",
    "            if 'begin' in line:\n",
    "                is_content = True\n",
    "            elif 'end' in line:\n",
    "                is_content = False\n",
    "                yield output\n",
    "                output = \"\"\n",
    "            else:\n",
    "                output += line\n",
    "\n",
    "for item in content_generator(in_file):\n",
    "    print(\"----Content Item----\")\n",
    "    print(item)"
   ]
  },
  {
   "cell_type": "markdown",
   "metadata": {},
   "source": [
    "Everything works, with a lot less code.\n",
    "\n",
    "\n",
    "The lesson for me -- even though context and iterators often go together, they are not the same thing."
   ]
  },
  {
   "cell_type": "markdown",
   "metadata": {
    "collapsed": true
   },
   "source": [
    "A helpful way of thinking about contexts -- it's a kind of decorator for a number of statements instead of a function, that gives access to a variable in wrapped code."
   ]
  }
 ],
 "metadata": {
  "kernelspec": {
   "display_name": "Python 3",
   "language": "python",
   "name": "python3"
  },
  "language_info": {
   "codemirror_mode": {
    "name": "ipython",
    "version": 3
   },
   "file_extension": ".py",
   "mimetype": "text/x-python",
   "name": "python",
   "nbconvert_exporter": "python",
   "pygments_lexer": "ipython3",
   "version": "3.4.3"
  }
 },
 "nbformat": 4,
 "nbformat_minor": 0
}
